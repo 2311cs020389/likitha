{
 "cells": [
  {
   "cell_type": "code",
   "execution_count": 3,
   "id": "54b97e6e",
   "metadata": {},
   "outputs": [
    {
     "data": {
      "text/plain": [
       "[20, 30, 10, 40, 50]"
      ]
     },
     "execution_count": 3,
     "metadata": {},
     "output_type": "execute_result"
    }
   ],
   "source": [
    "dollars=[20,30,10,40,50]\n",
    "dollars"
   ]
  },
  {
   "cell_type": "code",
   "execution_count": 9,
   "id": "af30b5ed",
   "metadata": {},
   "outputs": [],
   "source": [
    "inr=[]\n",
    "for i in dollars:\n",
    "    inr.append(i*85)"
   ]
  },
  {
   "cell_type": "code",
   "execution_count": 10,
   "id": "27cf18c4",
   "metadata": {},
   "outputs": [
    {
     "data": {
      "text/plain": [
       "[1700, 2550, 850, 3400, 4250]"
      ]
     },
     "execution_count": 10,
     "metadata": {},
     "output_type": "execute_result"
    }
   ],
   "source": [
    "inr"
   ]
  },
  {
   "cell_type": "code",
   "execution_count": 11,
   "id": "4449deb3",
   "metadata": {},
   "outputs": [
    {
     "data": {
      "text/plain": [
       "[31, 45, 66, 33, 90, 78, 67, 87, 89, 93, 25, 59, 9, 81]"
      ]
     },
     "execution_count": 11,
     "metadata": {},
     "output_type": "execute_result"
    }
   ],
   "source": [
    "num=[31,45,66,33,90,78,67,87,89,93,25,59,9,81]\n",
    "num"
   ]
  },
  {
   "cell_type": "code",
   "execution_count": 13,
   "id": "fd8a31a7",
   "metadata": {},
   "outputs": [],
   "source": [
    "j=[]\n",
    "k=[]\n",
    "for i in num:\n",
    "    if i%2==0:\n",
    "        j.append(i)\n",
    "    else:\n",
    "        k.append(i)"
   ]
  },
  {
   "cell_type": "code",
   "execution_count": 16,
   "id": "b855b308",
   "metadata": {},
   "outputs": [
    {
     "data": {
      "text/plain": [
       "[66, 90, 78]"
      ]
     },
     "execution_count": 16,
     "metadata": {},
     "output_type": "execute_result"
    }
   ],
   "source": [
    "j"
   ]
  },
  {
   "cell_type": "code",
   "execution_count": 17,
   "id": "0f602f8d",
   "metadata": {},
   "outputs": [
    {
     "data": {
      "text/plain": [
       "[31, 45, 33, 67, 87, 89, 93, 25, 59, 9, 81]"
      ]
     },
     "execution_count": 17,
     "metadata": {},
     "output_type": "execute_result"
    }
   ],
   "source": [
    "k"
   ]
  },
  {
   "cell_type": "code",
   "execution_count": 19,
   "id": "5432a936",
   "metadata": {},
   "outputs": [
    {
     "data": {
      "text/plain": [
       "[39, 45, 66, 93, 90, 78, 67, 87, 89, 93, 25, 59, 49, 91]"
      ]
     },
     "execution_count": 19,
     "metadata": {},
     "output_type": "execute_result"
    }
   ],
   "source": [
    "num=[39,45,66,93,90,78,67,87,89,93,25,59,49,91]\n",
    "num"
   ]
  },
  {
   "cell_type": "code",
   "execution_count": 22,
   "id": "b689c41a",
   "metadata": {},
   "outputs": [
    {
     "name": "stdout",
     "output_type": "stream",
     "text": [
      "[31, 45, 66, 13, 10, 78, 67, 87, 81, 13, 25, 51, 41, 11]\n"
     ]
    }
   ],
   "source": [
    "#replace 9 with 1\n",
    "num = [39, 45, 66, 93, 90, 78, 67, 87, 89, 93, 25, 59, 49, 91]\n",
    "num = [int(str(x).replace('9', '1')) for x in num]\n",
    "print(num)\n"
   ]
  },
  {
   "cell_type": "code",
   "execution_count": 25,
   "id": "db82b262",
   "metadata": {},
   "outputs": [],
   "source": [
    "h=[]\n",
    "for i in num:\n",
    "    a=str(i)\n",
    "    b=a.replace('9','1')\n",
    "    c=int(b)\n",
    "    h.append(c)"
   ]
  },
  {
   "cell_type": "code",
   "execution_count": 26,
   "id": "6f0e3d59",
   "metadata": {},
   "outputs": [
    {
     "data": {
      "text/plain": [
       "[31, 45, 66, 13, 10, 78, 67, 87, 81, 13, 25, 51, 41, 11]"
      ]
     },
     "execution_count": 26,
     "metadata": {},
     "output_type": "execute_result"
    }
   ],
   "source": [
    "h"
   ]
  },
  {
   "cell_type": "code",
   "execution_count": 1,
   "id": "599c969e",
   "metadata": {},
   "outputs": [
    {
     "data": {
      "text/plain": [
       "'MallaA reddy 2025'"
      ]
     },
     "execution_count": 1,
     "metadata": {},
     "output_type": "execute_result"
    }
   ],
   "source": [
    "x='MallaA reddy 2025'\n",
    "x"
   ]
  },
  {
   "cell_type": "code",
   "execution_count": 2,
   "id": "d5dc1a10",
   "metadata": {},
   "outputs": [
    {
     "data": {
      "text/plain": [
       "17"
      ]
     },
     "execution_count": 2,
     "metadata": {},
     "output_type": "execute_result"
    }
   ],
   "source": [
    "len(x)"
   ]
  },
  {
   "cell_type": "code",
   "execution_count": 3,
   "id": "446e359e",
   "metadata": {},
   "outputs": [
    {
     "data": {
      "text/plain": [
       "2"
      ]
     },
     "execution_count": 3,
     "metadata": {},
     "output_type": "execute_result"
    }
   ],
   "source": [
    "x.count('a')"
   ]
  },
  {
   "cell_type": "code",
   "execution_count": 4,
   "id": "b052992f",
   "metadata": {},
   "outputs": [
    {
     "data": {
      "text/plain": [
       "2"
      ]
     },
     "execution_count": 4,
     "metadata": {},
     "output_type": "execute_result"
    }
   ],
   "source": [
    "x.count('d')"
   ]
  },
  {
   "cell_type": "code",
   "execution_count": 5,
   "id": "983c9d40",
   "metadata": {},
   "outputs": [],
   "source": [
    "def calArea(r):\n",
    "    a=3.14*r*r\n",
    "    return a"
   ]
  },
  {
   "cell_type": "code",
   "execution_count": 6,
   "id": "56f37d9f",
   "metadata": {},
   "outputs": [
    {
     "data": {
      "text/plain": [
       "2826.0"
      ]
     },
     "execution_count": 6,
     "metadata": {},
     "output_type": "execute_result"
    }
   ],
   "source": [
    "calArea(r=30)"
   ]
  },
  {
   "cell_type": "code",
   "execution_count": 7,
   "id": "a32d1460",
   "metadata": {},
   "outputs": [],
   "source": [
    "def aor(l,w):\n",
    "    area=l*w\n",
    "    return area"
   ]
  },
  {
   "cell_type": "code",
   "execution_count": 8,
   "id": "603f17b3",
   "metadata": {},
   "outputs": [
    {
     "data": {
      "text/plain": [
       "50"
      ]
     },
     "execution_count": 8,
     "metadata": {},
     "output_type": "execute_result"
    }
   ],
   "source": [
    "aor(w=5,l=10)"
   ]
  },
  {
   "cell_type": "code",
   "execution_count": 9,
   "id": "9656806b",
   "metadata": {},
   "outputs": [
    {
     "data": {
      "text/plain": [
       "50"
      ]
     },
     "execution_count": 9,
     "metadata": {},
     "output_type": "execute_result"
    }
   ],
   "source": [
    "aor(10,5)"
   ]
  },
  {
   "cell_type": "code",
   "execution_count": 10,
   "id": "1fc3e16d",
   "metadata": {},
   "outputs": [
    {
     "data": {
      "text/plain": [
       "50"
      ]
     },
     "execution_count": 10,
     "metadata": {},
     "output_type": "execute_result"
    }
   ],
   "source": [
    "aor(l=10,w=5)"
   ]
  },
  {
   "cell_type": "code",
   "execution_count": 11,
   "id": "4de707d8",
   "metadata": {},
   "outputs": [],
   "source": [
    "def calArea(r):\n",
    "    a=3.14*r*r\n",
    "    return a"
   ]
  },
  {
   "cell_type": "code",
   "execution_count": 12,
   "id": "1da0004b",
   "metadata": {},
   "outputs": [
    {
     "data": {
      "text/plain": [
       "2826.0"
      ]
     },
     "execution_count": 12,
     "metadata": {},
     "output_type": "execute_result"
    }
   ],
   "source": [
    "calArea(r=30)"
   ]
  },
  {
   "cell_type": "code",
   "execution_count": 13,
   "id": "fe52b7f6",
   "metadata": {},
   "outputs": [],
   "source": [
    "def area(rad,length,width):\n",
    "    aoc=3.14*rad*rad\n",
    "    aor=length*width\n",
    "    return aoc,aor"
   ]
  },
  {
   "cell_type": "code",
   "execution_count": 14,
   "id": "e0b5a83f",
   "metadata": {},
   "outputs": [
    {
     "data": {
      "text/plain": [
       "(314.0, 100)"
      ]
     },
     "execution_count": 14,
     "metadata": {},
     "output_type": "execute_result"
    }
   ],
   "source": [
    "area(rad=10,length=20,width=5)"
   ]
  },
  {
   "cell_type": "code",
   "execution_count": 15,
   "id": "0d32d1c9",
   "metadata": {},
   "outputs": [
    {
     "data": {
      "text/plain": [
       "'HyderabAAd 500008 Telangana'"
      ]
     },
     "execution_count": 15,
     "metadata": {},
     "output_type": "execute_result"
    }
   ],
   "source": [
    "t='HyderabAAd 500008 Telangana'\n",
    "t"
   ]
  },
  {
   "cell_type": "code",
   "execution_count": 16,
   "id": "8adb6880",
   "metadata": {},
   "outputs": [],
   "source": [
    "def countA(x):\n",
    "    d=x.lower()\n",
    "    return d.count('a')"
   ]
  },
  {
   "cell_type": "code",
   "execution_count": 20,
   "id": "ae3aa2a5",
   "metadata": {},
   "outputs": [
    {
     "data": {
      "text/plain": [
       "6"
      ]
     },
     "execution_count": 20,
     "metadata": {},
     "output_type": "execute_result"
    }
   ],
   "source": [
    "countA(t)"
   ]
  },
  {
   "cell_type": "code",
   "execution_count": 22,
   "id": "e9272f6b",
   "metadata": {},
   "outputs": [
    {
     "ename": "SyntaxError",
     "evalue": "invalid syntax (102924743.py, line 10)",
     "output_type": "error",
     "traceback": [
      "\u001b[1;36m  Cell \u001b[1;32mIn[22], line 10\u001b[1;36m\u001b[0m\n\u001b[1;33m    return(\"Number of alphabets\":c,\"Number of digits\":d)\u001b[0m\n\u001b[1;37m                                ^\u001b[0m\n\u001b[1;31mSyntaxError\u001b[0m\u001b[1;31m:\u001b[0m invalid syntax\n"
     ]
    }
   ],
   "source": [
    "#write code to find how many alphabets and numbers are there in above string...!\n",
    "def count_num_alpha(x):\n",
    "    c=0\n",
    "    d=0\n",
    "    for i in x:\n",
    "        if i.isalpha():\n",
    "            c+=1\n",
    "        elif i.isnumeric():\n",
    "            d+=1\n",
    "    return(\"Number of alphabets\":c,\"Number of digits\":d)"
   ]
  },
  {
   "cell_type": "code",
   "execution_count": null,
   "id": "195f5ced",
   "metadata": {},
   "outputs": [],
   "source": []
  }
 ],
 "metadata": {
  "kernelspec": {
   "display_name": "Python 3 (ipykernel)",
   "language": "python",
   "name": "python3"
  },
  "language_info": {
   "codemirror_mode": {
    "name": "ipython",
    "version": 3
   },
   "file_extension": ".py",
   "mimetype": "text/x-python",
   "name": "python",
   "nbconvert_exporter": "python",
   "pygments_lexer": "ipython3",
   "version": "3.11.5"
  }
 },
 "nbformat": 4,
 "nbformat_minor": 5
}
