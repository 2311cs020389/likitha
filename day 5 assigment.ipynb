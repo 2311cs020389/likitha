{
 "cells": [
  {
   "cell_type": "code",
   "execution_count": 5,
   "id": "e827f0a5",
   "metadata": {},
   "outputs": [
    {
     "name": "stdout",
     "output_type": "stream",
     "text": [
      "Enter a positive integer: 12\n",
      "Numbers from 1 to 12 :\n",
      "1\n",
      "2\n",
      "3\n",
      "4\n",
      "5\n",
      "6\n",
      "7\n",
      "8\n",
      "9\n",
      "10\n",
      "11\n",
      "12\n",
      "Sum of the numbers from 1 to 12 : 78\n"
     ]
    }
   ],
   "source": [
    "n=int(input(\"Enter a positive integer: \"))\n",
    "print(\"Numbers from 1 to\",n,\":\")\n",
    "for i in range(1,n+1):\n",
    "    print(i)\n",
    "sum=0\n",
    "i=1\n",
    "while i<=n:\n",
    "    sum+=i\n",
    "    i+=1\n",
    "print(\"Sum of the numbers from 1 to\",n,\":\",sum)"
   ]
  },
  {
   "cell_type": "code",
   "execution_count": null,
   "id": "7912ca09",
   "metadata": {},
   "outputs": [],
   "source": []
  }
 ],
 "metadata": {
  "kernelspec": {
   "display_name": "Python 3 (ipykernel)",
   "language": "python",
   "name": "python3"
  },
  "language_info": {
   "codemirror_mode": {
    "name": "ipython",
    "version": 3
   },
   "file_extension": ".py",
   "mimetype": "text/x-python",
   "name": "python",
   "nbconvert_exporter": "python",
   "pygments_lexer": "ipython3",
   "version": "3.11.5"
  }
 },
 "nbformat": 4,
 "nbformat_minor": 5
}
