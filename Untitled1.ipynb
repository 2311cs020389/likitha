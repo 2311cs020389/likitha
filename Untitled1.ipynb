{
 "cells": [
  {
   "cell_type": "code",
   "execution_count": 1,
   "id": "472a9871",
   "metadata": {},
   "outputs": [
    {
     "data": {
      "text/plain": [
       "list"
      ]
     },
     "execution_count": 1,
     "metadata": {},
     "output_type": "execute_result"
    }
   ],
   "source": [
    "a=[23,45,67,89]\n",
    "type(a)"
   ]
  },
  {
   "cell_type": "code",
   "execution_count": 2,
   "id": "a4bc7398",
   "metadata": {},
   "outputs": [
    {
     "data": {
      "text/plain": [
       "list"
      ]
     },
     "execution_count": 2,
     "metadata": {},
     "output_type": "execute_result"
    }
   ],
   "source": [
    "b=[23,\"home\",45,67.4]\n",
    "type(b)"
   ]
  },
  {
   "cell_type": "code",
   "execution_count": 3,
   "id": "093a4a91",
   "metadata": {},
   "outputs": [
    {
     "data": {
      "text/plain": [
       "list"
      ]
     },
     "execution_count": 3,
     "metadata": {},
     "output_type": "execute_result"
    }
   ],
   "source": [
    "c=[67,'home',48.35,True,'hyd']\n",
    "type(c)"
   ]
  },
  {
   "cell_type": "code",
   "execution_count": 4,
   "id": "7b5d4921",
   "metadata": {},
   "outputs": [
    {
     "data": {
      "text/plain": [
       "'hyd'"
      ]
     },
     "execution_count": 4,
     "metadata": {},
     "output_type": "execute_result"
    }
   ],
   "source": [
    "c[4]"
   ]
  },
  {
   "cell_type": "code",
   "execution_count": 5,
   "id": "e8d64351",
   "metadata": {},
   "outputs": [
    {
     "data": {
      "text/plain": [
       "'home'"
      ]
     },
     "execution_count": 5,
     "metadata": {},
     "output_type": "execute_result"
    }
   ],
   "source": [
    "b[1]"
   ]
  },
  {
   "cell_type": "code",
   "execution_count": 6,
   "id": "cbd699a0",
   "metadata": {},
   "outputs": [
    {
     "data": {
      "text/plain": [
       "67"
      ]
     },
     "execution_count": 6,
     "metadata": {},
     "output_type": "execute_result"
    }
   ],
   "source": [
    "a[2]"
   ]
  },
  {
   "cell_type": "code",
   "execution_count": 7,
   "id": "15f6300f",
   "metadata": {},
   "outputs": [
    {
     "data": {
      "text/plain": [
       "[67, 'home', 48.35]"
      ]
     },
     "execution_count": 7,
     "metadata": {},
     "output_type": "execute_result"
    }
   ],
   "source": [
    "c[0:3]"
   ]
  },
  {
   "cell_type": "code",
   "execution_count": 8,
   "id": "0926d540",
   "metadata": {},
   "outputs": [
    {
     "data": {
      "text/plain": [
       "['home', 48.35, True]"
      ]
     },
     "execution_count": 8,
     "metadata": {},
     "output_type": "execute_result"
    }
   ],
   "source": [
    "c[1:4]"
   ]
  },
  {
   "cell_type": "code",
   "execution_count": 10,
   "id": "1fe2b2e6",
   "metadata": {},
   "outputs": [
    {
     "data": {
      "text/plain": [
       "[67, 48.35, 'hyd']"
      ]
     },
     "execution_count": 10,
     "metadata": {},
     "output_type": "execute_result"
    }
   ],
   "source": [
    "c[0::2]  #start end step"
   ]
  },
  {
   "cell_type": "code",
   "execution_count": 12,
   "id": "12ad4848",
   "metadata": {},
   "outputs": [
    {
     "data": {
      "text/plain": [
       "[67, 48.35]"
      ]
     },
     "execution_count": 12,
     "metadata": {},
     "output_type": "execute_result"
    }
   ],
   "source": [
    "c[0:4:2]"
   ]
  },
  {
   "cell_type": "code",
   "execution_count": 13,
   "id": "6abd7aec",
   "metadata": {},
   "outputs": [
    {
     "data": {
      "text/plain": [
       "list"
      ]
     },
     "execution_count": 13,
     "metadata": {},
     "output_type": "execute_result"
    }
   ],
   "source": [
    "d=[12,'world',65.45,True,False,'likitha',984,265.03]\n",
    "type(d)"
   ]
  },
  {
   "cell_type": "code",
   "execution_count": 14,
   "id": "6d0a5464",
   "metadata": {},
   "outputs": [
    {
     "data": {
      "text/plain": [
       "'likitha'"
      ]
     },
     "execution_count": 14,
     "metadata": {},
     "output_type": "execute_result"
    }
   ],
   "source": [
    "d[5]"
   ]
  },
  {
   "cell_type": "code",
   "execution_count": 15,
   "id": "89e6203c",
   "metadata": {},
   "outputs": [
    {
     "data": {
      "text/plain": [
       "[12, 'world', 65.45, True]"
      ]
     },
     "execution_count": 15,
     "metadata": {},
     "output_type": "execute_result"
    }
   ],
   "source": [
    "d[0:4]"
   ]
  },
  {
   "cell_type": "code",
   "execution_count": 16,
   "id": "e630187a",
   "metadata": {},
   "outputs": [
    {
     "data": {
      "text/plain": [
       "[False, 'likitha', 984]"
      ]
     },
     "execution_count": 16,
     "metadata": {},
     "output_type": "execute_result"
    }
   ],
   "source": [
    "d[4:7]"
   ]
  },
  {
   "cell_type": "code",
   "execution_count": 17,
   "id": "7d6411a1",
   "metadata": {},
   "outputs": [
    {
     "data": {
      "text/plain": [
       "[12, True, 984]"
      ]
     },
     "execution_count": 17,
     "metadata": {},
     "output_type": "execute_result"
    }
   ],
   "source": [
    "d[0:8:3] #gives 1st 7th 3rd elements"
   ]
  },
  {
   "cell_type": "code",
   "execution_count": 18,
   "id": "83f22385",
   "metadata": {},
   "outputs": [
    {
     "data": {
      "text/plain": [
       "[12, True, 984]"
      ]
     },
     "execution_count": 18,
     "metadata": {},
     "output_type": "execute_result"
    }
   ],
   "source": [
    "d[0::3]"
   ]
  },
  {
   "cell_type": "code",
   "execution_count": 19,
   "id": "81812a3a",
   "metadata": {},
   "outputs": [
    {
     "data": {
      "text/plain": [
       "[False, 984]"
      ]
     },
     "execution_count": 19,
     "metadata": {},
     "output_type": "execute_result"
    }
   ],
   "source": [
    "d[4:8:2]"
   ]
  },
  {
   "cell_type": "code",
   "execution_count": 20,
   "id": "36c8895b",
   "metadata": {},
   "outputs": [
    {
     "data": {
      "text/plain": [
       "984"
      ]
     },
     "execution_count": 20,
     "metadata": {},
     "output_type": "execute_result"
    }
   ],
   "source": [
    "d[-2]"
   ]
  },
  {
   "cell_type": "code",
   "execution_count": 21,
   "id": "a10fa422",
   "metadata": {},
   "outputs": [
    {
     "data": {
      "text/plain": [
       "[]"
      ]
     },
     "execution_count": 21,
     "metadata": {},
     "output_type": "execute_result"
    }
   ],
   "source": [
    "d[-1:-4]"
   ]
  },
  {
   "cell_type": "code",
   "execution_count": 22,
   "id": "5393c51e",
   "metadata": {},
   "outputs": [
    {
     "data": {
      "text/plain": [
       "[265.03, True]"
      ]
     },
     "execution_count": 22,
     "metadata": {},
     "output_type": "execute_result"
    }
   ],
   "source": [
    "d[-1::-4]"
   ]
  },
  {
   "cell_type": "code",
   "execution_count": 23,
   "id": "b7eb9a62",
   "metadata": {},
   "outputs": [
    {
     "data": {
      "text/plain": [
       "[265.03]"
      ]
     },
     "execution_count": 23,
     "metadata": {},
     "output_type": "execute_result"
    }
   ],
   "source": [
    "d[-1:-3:-8]"
   ]
  },
  {
   "cell_type": "code",
   "execution_count": 24,
   "id": "cce65bd9",
   "metadata": {},
   "outputs": [],
   "source": [
    "#list methods\n",
    "#append\n",
    "#insert\n",
    "#extend\n",
    "#pop\n",
    "#remove\n",
    "#clear\n",
    "#count"
   ]
  },
  {
   "cell_type": "code",
   "execution_count": 25,
   "id": "6b235689",
   "metadata": {},
   "outputs": [],
   "source": [
    "d.append('nice') #inserts a value at the end"
   ]
  },
  {
   "cell_type": "code",
   "execution_count": 26,
   "id": "e8594a22",
   "metadata": {},
   "outputs": [
    {
     "data": {
      "text/plain": [
       "[12, 'world', 65.45, True, False, 'likitha', 984, 265.03, 'nice']"
      ]
     },
     "execution_count": 26,
     "metadata": {},
     "output_type": "execute_result"
    }
   ],
   "source": [
    "d"
   ]
  },
  {
   "cell_type": "code",
   "execution_count": 27,
   "id": "3c48b9a0",
   "metadata": {},
   "outputs": [],
   "source": [
    "d.insert(2,90) #inserts the value based on the index we give"
   ]
  },
  {
   "cell_type": "code",
   "execution_count": 28,
   "id": "1df70671",
   "metadata": {},
   "outputs": [
    {
     "data": {
      "text/plain": [
       "[12, 'world', 90, 65.45, True, False, 'likitha', 984, 265.03, 'nice']"
      ]
     },
     "execution_count": 28,
     "metadata": {},
     "output_type": "execute_result"
    }
   ],
   "source": [
    "d"
   ]
  },
  {
   "cell_type": "code",
   "execution_count": 29,
   "id": "517a3e6d",
   "metadata": {},
   "outputs": [],
   "source": [
    "d.remove(984) #removes the value given"
   ]
  },
  {
   "cell_type": "code",
   "execution_count": 30,
   "id": "b89f6f1c",
   "metadata": {},
   "outputs": [
    {
     "data": {
      "text/plain": [
       "[12, 'world', 90, 65.45, True, False, 'likitha', 265.03, 'nice']"
      ]
     },
     "execution_count": 30,
     "metadata": {},
     "output_type": "execute_result"
    }
   ],
   "source": [
    "d"
   ]
  },
  {
   "cell_type": "code",
   "execution_count": 32,
   "id": "49d51c02",
   "metadata": {},
   "outputs": [
    {
     "data": {
      "text/plain": [
       "False"
      ]
     },
     "execution_count": 32,
     "metadata": {},
     "output_type": "execute_result"
    }
   ],
   "source": [
    "d.pop(5) #removes the value based on index"
   ]
  },
  {
   "cell_type": "code",
   "execution_count": 33,
   "id": "9bd709ba",
   "metadata": {},
   "outputs": [
    {
     "data": {
      "text/plain": [
       "[12, 'world', 90, 65.45, True, 265.03, 'nice']"
      ]
     },
     "execution_count": 33,
     "metadata": {},
     "output_type": "execute_result"
    }
   ],
   "source": [
    "d"
   ]
  },
  {
   "cell_type": "code",
   "execution_count": 35,
   "id": "4d67db2a",
   "metadata": {},
   "outputs": [],
   "source": [
    "d.insert(5,'likitha')"
   ]
  },
  {
   "cell_type": "code",
   "execution_count": 36,
   "id": "14c8df54",
   "metadata": {},
   "outputs": [
    {
     "data": {
      "text/plain": [
       "[12, 'world', 90, 65.45, True, 'likitha', 265.03, 'nice']"
      ]
     },
     "execution_count": 36,
     "metadata": {},
     "output_type": "execute_result"
    }
   ],
   "source": [
    "d"
   ]
  },
  {
   "cell_type": "code",
   "execution_count": 37,
   "id": "d5daa3c9",
   "metadata": {},
   "outputs": [
    {
     "data": {
      "text/plain": [
       "[]"
      ]
     },
     "execution_count": 37,
     "metadata": {},
     "output_type": "execute_result"
    }
   ],
   "source": [
    "d.clear()\n",
    "d"
   ]
  },
  {
   "cell_type": "code",
   "execution_count": 38,
   "id": "bbb46d8e",
   "metadata": {},
   "outputs": [],
   "source": [
    "del c #deletes c and gives an error when we run c"
   ]
  },
  {
   "cell_type": "code",
   "execution_count": 39,
   "id": "3d96feb2",
   "metadata": {},
   "outputs": [
    {
     "ename": "NameError",
     "evalue": "name 'c' is not defined",
     "output_type": "error",
     "traceback": [
      "\u001b[1;31m---------------------------------------------------------------------------\u001b[0m",
      "\u001b[1;31mNameError\u001b[0m                                 Traceback (most recent call last)",
      "Cell \u001b[1;32mIn[39], line 1\u001b[0m\n\u001b[1;32m----> 1\u001b[0m c\n",
      "\u001b[1;31mNameError\u001b[0m: name 'c' is not defined"
     ]
    }
   ],
   "source": [
    "c"
   ]
  },
  {
   "cell_type": "code",
   "execution_count": 44,
   "id": "2e8382dc",
   "metadata": {},
   "outputs": [
    {
     "data": {
      "text/plain": [
       "[25, 'world', 48, 57.32, True]"
      ]
     },
     "execution_count": 44,
     "metadata": {},
     "output_type": "execute_result"
    }
   ],
   "source": [
    "e=[25,'world',48,57.32,True]\n",
    "e"
   ]
  },
  {
   "cell_type": "code",
   "execution_count": 45,
   "id": "67da0298",
   "metadata": {},
   "outputs": [
    {
     "data": {
      "text/plain": [
       "[25, 'world', 48, 57.32, True, False, 'home', 32.05, 48, 77]"
      ]
     },
     "execution_count": 45,
     "metadata": {},
     "output_type": "execute_result"
    }
   ],
   "source": [
    "e.extend([False,'home',32.05,48,77])\n",
    "e"
   ]
  },
  {
   "cell_type": "code",
   "execution_count": 46,
   "id": "76b5f011",
   "metadata": {},
   "outputs": [
    {
     "data": {
      "text/plain": [
       "[25,\n",
       " 'world',\n",
       " 48,\n",
       " 57.32,\n",
       " True,\n",
       " False,\n",
       " 'home',\n",
       " 32.05,\n",
       " 48,\n",
       " 77,\n",
       " 65,\n",
       " 48,\n",
       " 25,\n",
       " 37,\n",
       " 89,\n",
       " 11,\n",
       " 240.68,\n",
       " 'nice']"
      ]
     },
     "execution_count": 46,
     "metadata": {},
     "output_type": "execute_result"
    }
   ],
   "source": [
    "e.extend([65,48,25,37,89,11,240.68,'nice'])\n",
    "e"
   ]
  },
  {
   "cell_type": "code",
   "execution_count": null,
   "id": "06911b77",
   "metadata": {},
   "outputs": [],
   "source": []
  }
 ],
 "metadata": {
  "kernelspec": {
   "display_name": "Python 3 (ipykernel)",
   "language": "python",
   "name": "python3"
  },
  "language_info": {
   "codemirror_mode": {
    "name": "ipython",
    "version": 3
   },
   "file_extension": ".py",
   "mimetype": "text/x-python",
   "name": "python",
   "nbconvert_exporter": "python",
   "pygments_lexer": "ipython3",
   "version": "3.11.5"
  }
 },
 "nbformat": 4,
 "nbformat_minor": 5
}
