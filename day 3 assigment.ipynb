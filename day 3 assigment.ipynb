{
 "cells": [
  {
   "cell_type": "code",
   "execution_count": 1,
   "id": "48c60a38",
   "metadata": {},
   "outputs": [
    {
     "name": "stdout",
     "output_type": "stream",
     "text": [
      "532.32\n",
      "598.3\n",
      "612.55\n",
      "581.0566666666666\n",
      "Grade:A\n"
     ]
    }
   ],
   "source": [
    "Maths = float(input())\n",
    "Physics = float(input())\n",
    "Chemistry = float(input())\n",
    "average = (Maths + Physics + Chemistry)/3\n",
    "print(average)\n",
    "if average >= 90:\n",
    "    print(\"Grade:A\")\n",
    "elif (average >= 80 and average <= 89):\n",
    "    print(\"Grade:B\")\n",
    "elif (average >= 70 and average <=79):\n",
    "    print(\"Grade:C\")\n",
    "else:\n",
    "    print(\"Grade:Fail\")"
   ]
  },
  {
   "cell_type": "code",
   "execution_count": null,
   "id": "fadd7dac",
   "metadata": {},
   "outputs": [],
   "source": []
  }
 ],
 "metadata": {
  "kernelspec": {
   "display_name": "Python 3 (ipykernel)",
   "language": "python",
   "name": "python3"
  },
  "language_info": {
   "codemirror_mode": {
    "name": "ipython",
    "version": 3
   },
   "file_extension": ".py",
   "mimetype": "text/x-python",
   "name": "python",
   "nbconvert_exporter": "python",
   "pygments_lexer": "ipython3",
   "version": "3.11.5"
  }
 },
 "nbformat": 4,
 "nbformat_minor": 5
}
