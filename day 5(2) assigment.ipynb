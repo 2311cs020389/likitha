{
 "cells": [
  {
   "cell_type": "code",
   "execution_count": 1,
   "id": "1808e6d4",
   "metadata": {},
   "outputs": [
    {
     "name": "stdout",
     "output_type": "stream",
     "text": [
      "Enter a positive integer: 22\n",
      "The square of 22 is 484\n"
     ]
    }
   ],
   "source": [
    "def calculate_square(n):\n",
    "  return n * n\n",
    "\n",
    "# Get user input\n",
    "try:\n",
    "  n = int(input(\"Enter a positive integer: \"))\n",
    "  if n <= 0:\n",
    "    print(\"Please enter a positive integer.\")\n",
    "  else:\n",
    "    # Call the function and display the result\n",
    "    square = calculate_square(n)\n",
    "    print(\"The square of\", n, \"is\", square)\n",
    "except ValueError:\n",
    "  print(\"Invalid input. Please enter a valid integer.\")\n"
   ]
  },
  {
   "cell_type": "code",
   "execution_count": null,
   "id": "f58d6aa8",
   "metadata": {},
   "outputs": [],
   "source": []
  }
 ],
 "metadata": {
  "kernelspec": {
   "display_name": "Python 3 (ipykernel)",
   "language": "python",
   "name": "python3"
  },
  "language_info": {
   "codemirror_mode": {
    "name": "ipython",
    "version": 3
   },
   "file_extension": ".py",
   "mimetype": "text/x-python",
   "name": "python",
   "nbconvert_exporter": "python",
   "pygments_lexer": "ipython3",
   "version": "3.11.5"
  }
 },
 "nbformat": 4,
 "nbformat_minor": 5
}
