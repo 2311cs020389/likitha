{
 "cells": [
  {
   "cell_type": "code",
   "execution_count": 1,
   "id": "cdc87d86",
   "metadata": {},
   "outputs": [
    {
     "name": "stdout",
     "output_type": "stream",
     "text": [
      "[10, 30.0, 30, 30.0, 50]\n"
     ]
    }
   ],
   "source": [
    "\"\"\"1.Given a list of numbers with some missing values represented as None, replace the \n",
    "missing values with the mean of the non-missing numbers\"\"\"\n",
    "\n",
    "numbers = [10, None, 30, None, 50]\n",
    "\n",
    "\n",
    "non_missing_numbers = [num for num in numbers if num is not None]\n",
    "mean_value = sum(non_missing_numbers) / len(non_missing_numbers)\n",
    "\n",
    " \n",
    "filled_numbers = [num if num is not None else mean_value for num in numbers]\n",
    "\n",
    "print(filled_numbers)\n"
   ]
  },
  {
   "cell_type": "code",
   "execution_count": 2,
   "id": "be201082",
   "metadata": {},
   "outputs": [
    {
     "name": "stdout",
     "output_type": "stream",
     "text": [
      "[0.0, 0.25, 0.5, 0.75, 1.0]\n"
     ]
    }
   ],
   "source": [
    "\"\"\"Implement a function to scale a list of numbers using Min-Max Scaling. Use the \n",
    "formula:scaled(x)=x-min/max-min\"\"\"\n",
    "\n",
    "def min_max_scaling(numbers):\n",
    "    min_value = min(numbers)\n",
    "    max_value = max(numbers)\n",
    "    scaled_numbers = [(x - min_value) / float (max_value - min_value) for x in numbers]\n",
    "    return scaled_numbers\n",
    "numbers = [20, 40, 60, 80, 100]\n",
    "scaled_numbers = min_max_scaling(numbers)\n",
    "print(scaled_numbers)\n"
   ]
  },
  {
   "cell_type": "code",
   "execution_count": 5,
   "id": "36750203",
   "metadata": {},
   "outputs": [
    {
     "name": "stdout",
     "output_type": "stream",
     "text": [
      "[0, 1, 0, 1]\n"
     ]
    }
   ],
   "source": [
    "\"\"\"Implement a function to binarize a list of numbers given a threshold. All values greater \n",
    "than or equal to the threshold should become 1, and all others should become 0.\"\"\"\n",
    "\n",
    "def binarize_list(numbers, threshold):\n",
    "     return [1 if num >= threshold else 0 for num in numbers]\n",
    "\n",
    "\n",
    "numbers = [1.5, 2.3, 0.8, 3.0]\n",
    "threshold = 2.0\n",
    "\n",
    "\n",
    "binarized_numbers = binarize_list(numbers, threshold)\n",
    "\n",
    "print(binarized_numbers)\n"
   ]
  },
  {
   "cell_type": "code",
   "execution_count": 6,
   "id": "c6ce4262",
   "metadata": {},
   "outputs": [
    {
     "name": "stdout",
     "output_type": "stream",
     "text": [
      "[5, 7, 9]\n"
     ]
    }
   ],
   "source": [
    "\"\"\"Given a function f(x)=2x+3, write a function to approximate f(x) by calculating the \n",
    "outputs for a given list of inputs. \n",
    "Example Input: \n",
    "inputs = [1, 2, 3] \"\"\"\n",
    "\n",
    "def approximate_function(inputs):\n",
    "     return [2 * x + 3 for x in inputs]\n",
    "inputs = [1, 2, 3]\n",
    "outputs = approximate_function(inputs)\n",
    "print(outputs)\n",
    "\n"
   ]
  },
  {
   "cell_type": "code",
   "execution_count": 8,
   "id": "9e2b6bdd",
   "metadata": {},
   "outputs": [
    {
     "name": "stdout",
     "output_type": "stream",
     "text": [
      "[-1.3416407864998738, -0.4472135954999579, 0.4472135954999579, 1.3416407864998738]\n"
     ]
    }
   ],
   "source": [
    "\"\"\"Write a function to standardize a list of numbers by subtracting the mean and dividing \n",
    "by the standard deviation. \n",
    "Example Input: \n",
    "[10, 20, 30, 40] \"\"\"\n",
    "\n",
    "import math\n",
    "\n",
    "def standardize(numbers):\n",
    "    mean_value = sum(numbers) / len(numbers)\n",
    "    variance = sum((x - mean_value) ** 2 for x in numbers) / len(numbers)\n",
    "    std_dev = math.sqrt(variance)\n",
    "   \n",
    "    standardized_numbers = [(x - mean_value) / std_dev for x in numbers]\n",
    "    return standardized_numbers\n",
    "\n",
    "\n",
    "numbers = [10, 20, 30, 40]\n",
    "\n",
    "\n",
    "standardized_numbers = standardize(numbers)\n",
    "\n",
    "print(standardized_numbers)\n"
   ]
  },
  {
   "cell_type": "code",
   "execution_count": 9,
   "id": "fb01dc7b",
   "metadata": {},
   "outputs": [
    {
     "name": "stdout",
     "output_type": "stream",
     "text": [
      "{'A': [1], 'B': [2]}\n"
     ]
    }
   ],
   "source": [
    "\"\"\"Given a list of data points and their corresponding labels, create a concept \n",
    "representation as a dictionary where keys are unique labels and values are lists of \n",
    "points belonging to each label. \n",
    " \n",
    "Example Input: \n",
    "data = [1, 2, 3, 4, 5], labels = [\"A\", \"B\", \"A\", \"B\", \"A\"] \"\"\"\n",
    "\n",
    "def create_concept_representation(data, labels):\n",
    "     concept_representation = {}\n",
    "   \n",
    "     for point, label in zip(data, labels):\n",
    "         if label not in concept_representation:\n",
    "                concept_representation[label] = []\n",
    "                concept_representation[label].append(point)\n",
    "   \n",
    "     return concept_representation\n",
    "\n",
    "\n",
    "data = [1, 2, 3, 4, 5]\n",
    "labels = [\"A\", \"B\", \"A\", \"B\", \"A\"]\n",
    "\n",
    "\n",
    "concept_representation = create_concept_representation(data, labels)\n",
    "\n",
    "print(concept_representation)\n"
   ]
  },
  {
   "cell_type": "code",
   "execution_count": 15,
   "id": "228e2369",
   "metadata": {},
   "outputs": [
    {
     "name": "stdout",
     "output_type": "stream",
     "text": [
      "Supervised Learning\n"
     ]
    }
   ],
   "source": [
    "\"\"\"Write a function that categorizes a given machine learning task based on its \n",
    "description. The categories are \"Supervised Learning\" or \"Unsupervised Learning\"  \n",
    "Example Input: \n",
    "\"Predict the price of a house based on features like size, location, and age.\" \"\"\"\n",
    "\n",
    "def categorize_task(description):\n",
    "    supervised_keywords = ['predict', 'target', 'output', 'regression', 'classification']\n",
    "    unsupervised_keywords = ['cluster', 'group', 'pattern', 'dimension', 'anomaly']\n",
    "    description = description.lower()\n",
    "    if any(keyword in description for keyword in supervised_keywords):\n",
    "        return \"Supervised Learning\"\n",
    "    elif any(keyword in description for keyword in unsupervised_keywords):\n",
    "        return \"Unsupervised Learning\"\n",
    "    else:\n",
    "        return \"Uncategorized\"  \n",
    "description = \"Predict the price of a house based on features like size, location, and age.\"\n",
    "\n",
    "\n",
    "category = categorize_task(description)\n",
    "\n",
    "print(category)\n"
   ]
  },
  {
   "cell_type": "code",
   "execution_count": 16,
   "id": "6bfdced6",
   "metadata": {},
   "outputs": [
    {
     "name": "stdout",
     "output_type": "stream",
     "text": [
      "Unsupervised Learning\n"
     ]
    }
   ],
   "source": [
    "\"\"\"Write a function that categorizes a given machine learning task based on its \n",
    "description. The categories are \"Supervised Learning\" or \"Unsupervised Learning\"  \n",
    "\"Group customers based on their purchasing patterns.\" \"\"\"\n",
    "\n",
    "def categorize_task(description):\n",
    "    supervised_keywords = ['predict', 'target', 'output', 'regression', 'classification']\n",
    "    unsupervised_keywords = ['group', 'cluster', 'pattern', 'dimension', 'anomaly']\n",
    "    description = description.lower()\n",
    "    if any(keyword in description for keyword in supervised_keywords):\n",
    "        return \"Supervised Learning\"\n",
    "   \n",
    "    elif any(keyword in description for keyword in unsupervised_keywords):\n",
    "        return \"Unsupervised Learning\"\n",
    "    else:\n",
    "        return \"Uncategorized\"  # If no relevant keywords are found\n",
    "\n",
    "\n",
    "description = \"Group customers based on their purchasing patterns.\"\n",
    "\n",
    "\n",
    "category = categorize_task(description)\n",
    "\n",
    "print(category)\n"
   ]
  },
  {
   "cell_type": "code",
   "execution_count": null,
   "id": "6374cb5a",
   "metadata": {},
   "outputs": [],
   "source": [
    "\"\"\"Predict Y using a Simple Linear Model \n",
    "Task: \n",
    "Write a function that calculates the predicted y value given the slope m, intercept c, \n",
    "and an input x using the formula for a line: \n",
    "y=mx+c \n",
    "Input: \n",
    "Three values: \n",
    "m (float): The slope of the line. \n",
    "c (float): The y-intercept of the line. \n",
    "x (float): The input value. \n",
    "Output: A single float value representing y.\"\"\"\n",
    "\n",
    "def predict_y(m, c, x):\n",
    "    y = m * x + c\n",
    "    return y\n",
    "m = 2.5  # Slope\n",
    "c = 1.0  # Y-intercept\n",
    "x = 4.0  # Input value\n",
    "\n",
    "predicted_y = predict_y(m, c, x)\n",
    "\n",
    "#print(predicted_y)\n",
    "\n"
   ]
  }
 ],
 "metadata": {
  "kernelspec": {
   "display_name": "Python 3 (ipykernel)",
   "language": "python",
   "name": "python3"
  },
  "language_info": {
   "codemirror_mode": {
    "name": "ipython",
    "version": 3
   },
   "file_extension": ".py",
   "mimetype": "text/x-python",
   "name": "python",
   "nbconvert_exporter": "python",
   "pygments_lexer": "ipython3",
   "version": "3.11.5"
  }
 },
 "nbformat": 4,
 "nbformat_minor": 5
}
