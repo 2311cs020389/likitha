{
 "cells": [
  {
   "cell_type": "code",
   "execution_count": 2,
   "id": "503af400",
   "metadata": {},
   "outputs": [],
   "source": [
    "A = [123,456,789,\"Hello\",\"Likitha\"]\n",
    "B = (147,258,369,\"Hey\",\"Majji\")\n",
    "c = {\"Name\" : \"Likitha\",\n",
    "    \"Greet\" : \"Hey\",\n",
    "    \"Time\" : 2,\n",
    "     \"Date\" : 19\n",
    "}"
   ]
  },
  {
   "cell_type": "code",
   "execution_count": 3,
   "id": "e8fc1e82",
   "metadata": {},
   "outputs": [
    {
     "name": "stdout",
     "output_type": "stream",
     "text": [
      "Hello\n",
      "[789, 'Hello', 'Likitha']\n",
      "[123, 789]\n"
     ]
    }
   ],
   "source": [
    "print(A[3])\n",
    "print(A[2:])\n",
    "print(A[0:3:2])\n",
    "     "
   ]
  },
  {
   "cell_type": "code",
   "execution_count": 4,
   "id": "31342a7d",
   "metadata": {},
   "outputs": [
    {
     "name": "stdout",
     "output_type": "stream",
     "text": [
      "Hey\n",
      "(369, 'Hey', 'Majji')\n",
      "(147, 369)\n"
     ]
    }
   ],
   "source": [
    "# Accessing elemsts form Tuple\n",
    "print(B[3])\n",
    "print(B[2:])\n",
    "print(B[0:3:2])\n",
    "     "
   ]
  },
  {
   "cell_type": "code",
   "execution_count": 5,
   "id": "5eb17d8a",
   "metadata": {},
   "outputs": [
    {
     "name": "stdout",
     "output_type": "stream",
     "text": [
      "Hey\n",
      "Likitha\n",
      "ikitha\n",
      "2\n",
      "h\n"
     ]
    }
   ],
   "source": [
    "# Accessing elements from Dictionary\n",
    "print(c[\"Greet\"])\n",
    "print(c[\"Name\"])\n",
    "print(c[\"Name\"][1:])\n",
    "print(c[\"Time\"])\n",
    "print(c[\"Name\"][5])"
   ]
  },
  {
   "cell_type": "code",
   "execution_count": null,
   "id": "76455102",
   "metadata": {},
   "outputs": [],
   "source": []
  }
 ],
 "metadata": {
  "kernelspec": {
   "display_name": "Python 3 (ipykernel)",
   "language": "python",
   "name": "python3"
  },
  "language_info": {
   "codemirror_mode": {
    "name": "ipython",
    "version": 3
   },
   "file_extension": ".py",
   "mimetype": "text/x-python",
   "name": "python",
   "nbconvert_exporter": "python",
   "pygments_lexer": "ipython3",
   "version": "3.11.5"
  }
 },
 "nbformat": 4,
 "nbformat_minor": 5
}
