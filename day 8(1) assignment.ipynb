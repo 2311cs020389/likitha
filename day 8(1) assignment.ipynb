{
 "cells": [
  {
   "cell_type": "code",
   "execution_count": 2,
   "id": "7271b725",
   "metadata": {},
   "outputs": [
    {
     "name": "stdout",
     "output_type": "stream",
     "text": [
      "  Region    Product  Sales  Quantity  Profit\n",
      "0  North  Product A   1500       100      50\n",
      "3   West  Product B   2000       120      70\n",
      "  Region    Product  Sales  Quantity  Profit\n",
      "2   East  Product A    200        60      20\n"
     ]
    }
   ],
   "source": [
    "import pandas as pd\n",
    "data = {\n",
    "    'Region': ['North', 'South', 'East', 'West', 'North'],\n",
    "    'Product': ['Product A', 'Product B', 'Product A', 'Product B', 'Product C'],\n",
    "    'Sales': [1500, 300, 200, 2000, 400],\n",
    "    'Quantity': [100, 50, 60, 120, 80],\n",
    "    'Profit': [50, 30, 20, 70, 40]\n",
    "}\n",
    "df = pd.DataFrame(data)\n",
    "sales_above_1000 = df[df['Sales'] > 1000]\n",
    "east_sales = df[df['Region'] == 'East']\n",
    "print(sales_above_1000)\n",
    "print(east_sales)"
   ]
  },
  {
   "cell_type": "code",
   "execution_count": null,
   "id": "35ad932a",
   "metadata": {},
   "outputs": [],
   "source": []
  }
 ],
 "metadata": {
  "kernelspec": {
   "display_name": "Python 3 (ipykernel)",
   "language": "python",
   "name": "python3"
  },
  "language_info": {
   "codemirror_mode": {
    "name": "ipython",
    "version": 3
   },
   "file_extension": ".py",
   "mimetype": "text/x-python",
   "name": "python",
   "nbconvert_exporter": "python",
   "pygments_lexer": "ipython3",
   "version": "3.11.5"
  }
 },
 "nbformat": 4,
 "nbformat_minor": 5
}
